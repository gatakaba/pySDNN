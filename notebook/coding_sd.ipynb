{
 "cells": [
  {
   "cell_type": "code",
   "execution_count": 1,
   "metadata": {
    "collapsed": true
   },
   "outputs": [],
   "source": [
    "%matplotlib inline\n",
    "import sys,os\n",
    "sys.path.insert(0, os.path.abspath('../'))"
   ]
  },
  {
   "cell_type": "code",
   "execution_count": 3,
   "metadata": {
    "collapsed": true
   },
   "outputs": [],
   "source": [
    "import numpy as np\n",
    "import matplotlib.pyplot as plt\n",
    "from pysdnn import coding\n",
    "plt.rcParams[\"figure.figsize\"] = [12,8]"
   ]
  },
  {
   "cell_type": "markdown",
   "metadata": {},
   "source": [
    "# SelectiveDesensitizationクラスの使い方"
   ]
  },
  {
   "cell_type": "code",
   "execution_count": 14,
   "metadata": {
    "collapsed": true
   },
   "outputs": [],
   "source": [
    "# コードパターンの要素数\n",
    "code_pattern_dim=8\n",
    "# 実数の分割数\n",
    "input_division_num=10\n",
    "# 反点数\n",
    "reversal_num=1\n",
    "# 入力データの次元数\n",
    "input_dim=3\n",
    "# インスタンスの生成\n",
    "sd = coding.SelectiveDesensitization(code_pattern_dim,input_division_num,reversal_num,input_dim)"
   ]
  },
  {
   "cell_type": "code",
   "execution_count": 15,
   "metadata": {
    "collapsed": false
   },
   "outputs": [
    {
     "name": "stdout",
     "output_type": "stream",
     "text": [
      "pattern_x dim :48\n",
      "pattern_y dim :48\n",
      "pattern_x:[-0. -1. -0. -1.  1.  1.  0.  0.  0. -1. -0.  1. -1.  1.  0. -0. -0.  0.\n",
      " -0.  0.  1.  1. -1. -1.  0. -0. -0.  0. -1.  1.  1. -1. -1.  0. -0.  1.\n",
      "  0.  1. -1. -0. -1. -0. -0. -1.  0.  1.  1.  0.]\n",
      "pattern_y:[ 1. -1. -0. -1.  0.  1. -0.  0. -1. -1. -0.  1.  0.  1.  0. -0.  1.  0.\n",
      " -0.  0. -1.  1. -0. -1. -1. -0. -0.  0.  1.  1.  0. -1.  0.  0. -0.  1.\n",
      " -1.  1. -1. -0.  0. -0. -0. -1.  1.  1. -1.  0.]\n"
     ]
    }
   ],
   "source": [
    "x = np.array([0.5,0.5,0.5])\n",
    "y = np.array([0.6,0.6,0.6])\n",
    "\n",
    "pattern_x=sd.coding(x)\n",
    "pattern_y=sd.coding(y)\n",
    "\n",
    "print(\"pattern_x dim :\"+str(len(pattern_x)))\n",
    "print(\"pattern_y dim :\"+str(len(pattern_y)))\n",
    "\n",
    "print(\"pattern_x:\"+str(pattern_x))\n",
    "print(\"pattern_y:\"+str(pattern_y))\n"
   ]
  },
  {
   "cell_type": "code",
   "execution_count": 18,
   "metadata": {
    "collapsed": false
   },
   "outputs": [
    {
     "name": "stdout",
     "output_type": "stream",
     "text": [
      "[[ 1.  1. -0. ...,  0. -0.  1.]\n",
      " [-0. -0. -1. ..., -1.  1.  0.]\n",
      " [-1. -0. -0. ...,  1. -0.  0.]\n",
      " ..., \n",
      " [-1.  1.  0. ..., -1.  0. -1.]\n",
      " [-1. -0.  0. ...,  0.  1. -1.]\n",
      " [-0. -1. -0. ..., -1.  1.  0.]]\n",
      "(100, 48)\n"
     ]
    }
   ],
   "source": [
    "x=np.random.random(size=[100,3])\n",
    "print(sd.coding(x))\n",
    "print(sd.coding(x).shape)\n"
   ]
  },
  {
   "cell_type": "code",
   "execution_count": null,
   "metadata": {
    "collapsed": true
   },
   "outputs": [],
   "source": []
  }
 ],
 "metadata": {
  "kernelspec": {
   "display_name": "Python 3",
   "language": "python",
   "name": "python3"
  },
  "language_info": {
   "codemirror_mode": {
    "name": "ipython",
    "version": 3
   },
   "file_extension": ".py",
   "mimetype": "text/x-python",
   "name": "python",
   "nbconvert_exporter": "python",
   "pygments_lexer": "ipython3",
   "version": "3.5.1"
  }
 },
 "nbformat": 4,
 "nbformat_minor": 2
}
